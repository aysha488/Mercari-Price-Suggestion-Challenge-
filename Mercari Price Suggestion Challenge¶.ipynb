{
 "cells": [
  {
   "cell_type": "markdown",
   "metadata": {},
   "source": [
    "# Mercari Price Suggestion Challenge\n",
    "\n",
    "**Overview:** <br>\n",
    "In this Kernel i try to adapt Natural langugae processing (NLP) Techniques in regression machine leaning alogrithem.<br>\n",
    "\n",
    "**Data:**<br>\n",
    "The data is obtain from kaggle competition \"Mercari Price Suggestion Challenge\" https://www.kaggle.com/c/mercari-price-suggestion-challenge/overview\n",
    "\n",
    "Dataset Features:<br>\n",
    "**ID**: the id of the listing<br>\n",
    "**Name**: the title of the listing<br>\n",
    "**Item Condition**: the condition of the items provided by the seller<br>\n",
    "**Category Name**: category of the listing<br>\n",
    "**Brand Name**: brand of the listing<br>\n",
    "**Shipping**: whether or not shipping cost was provided<br>\n",
    "**Item Description**: the full description of the item<br>\n",
    "**Price**: the price that the item was sold for. This is the target variable that you will predict. The unit is USD.<br>\n",
    "\n",
    "**Challenge:**<br>\n",
    "Mercari’s challenging you to build an algorithm that automatically suggests the right product prices. You’ll be provided text descriptions of their products, including details like product category name, brand name, and item condition.\n"
   ]
  },
  {
   "cell_type": "code",
   "execution_count": 1,
   "metadata": {},
   "outputs": [],
   "source": [
    "# importing necessary library\n",
    "import pandas as pd\n",
    "import numpy as np\n",
    "import csv\n",
    "import matplotlib.pyplot as plt\n",
    "import seaborn as sns\n",
    "import string\n",
    "from nltk.corpus import stopwords\n",
    "import re\n",
    "from scipy.sparse import csr_matrix, hstack\n",
    "from sklearn.feature_extraction.text import CountVectorizer, TfidfVectorizer\n",
    "from sklearn.preprocessing import LabelBinarizer\n",
    "from sklearn.metrics import mean_squared_error\n",
    "from sklearn.pipeline import make_pipeline\n",
    "from sklearn.model_selection import KFold, cross_val_score, train_test_split\n",
    "from sklearn.linear_model import Lasso, Ridge, ElasticNet,ElasticNetCV\n",
    "from pandas import DataFrame\n",
    "\n",
    "\n"
   ]
  },
  {
   "cell_type": "code",
   "execution_count": 2,
   "metadata": {},
   "outputs": [],
   "source": [
    "# Importing data frame\n",
    "train = pd.read_csv('C://Users//my//Desktop//train.tsv', sep = '\\t',engine=\"python\")\n",
    "# Eleminate Entries with zero prices \n",
    "train=train[train.price!=0]\n",
    "# Take a subset of data (to make it run faster )\n",
    "reduced_X_train = train.sample(frac=0.1).reset_index(drop=True)\n",
    "# Tale log transformaion of price \n",
    "reduced_y_train = np.log1p(reduced_X_train['price'])\n"
   ]
  },
  {
   "cell_type": "markdown",
   "metadata": {},
   "source": [
    "# Data Overview"
   ]
  },
  {
   "cell_type": "code",
   "execution_count": 3,
   "metadata": {},
   "outputs": [
    {
     "data": {
      "text/html": [
       "<div>\n",
       "<style scoped>\n",
       "    .dataframe tbody tr th:only-of-type {\n",
       "        vertical-align: middle;\n",
       "    }\n",
       "\n",
       "    .dataframe tbody tr th {\n",
       "        vertical-align: top;\n",
       "    }\n",
       "\n",
       "    .dataframe thead th {\n",
       "        text-align: right;\n",
       "    }\n",
       "</style>\n",
       "<table border=\"1\" class=\"dataframe\">\n",
       "  <thead>\n",
       "    <tr style=\"text-align: right;\">\n",
       "      <th></th>\n",
       "      <th>train_id</th>\n",
       "      <th>name</th>\n",
       "      <th>item_condition_id</th>\n",
       "      <th>category_name</th>\n",
       "      <th>brand_name</th>\n",
       "      <th>price</th>\n",
       "      <th>shipping</th>\n",
       "      <th>item_description</th>\n",
       "    </tr>\n",
       "  </thead>\n",
       "  <tbody>\n",
       "    <tr>\n",
       "      <td>0</td>\n",
       "      <td>248961</td>\n",
       "      <td>Mac Fix plus coconut limited edition</td>\n",
       "      <td>1</td>\n",
       "      <td>Beauty/Makeup/Face</td>\n",
       "      <td>Mac Cosmetic</td>\n",
       "      <td>17.0</td>\n",
       "      <td>0</td>\n",
       "      <td>Price FIRM No free ship This is 30ml travel si...</td>\n",
       "    </tr>\n",
       "    <tr>\n",
       "      <td>1</td>\n",
       "      <td>281952</td>\n",
       "      <td>Baseball Hat</td>\n",
       "      <td>3</td>\n",
       "      <td>Men/Men's Accessories/Hats</td>\n",
       "      <td>Thrasher</td>\n",
       "      <td>8.0</td>\n",
       "      <td>1</td>\n",
       "      <td>Thrifted this item. Adjustable strap in the ba...</td>\n",
       "    </tr>\n",
       "    <tr>\n",
       "      <td>2</td>\n",
       "      <td>577278</td>\n",
       "      <td>Ovo Drake Size L Ovoxo Black Hoodie New</td>\n",
       "      <td>1</td>\n",
       "      <td>Men/Sweats &amp; Hoodies/Hoodie</td>\n",
       "      <td>Gildan</td>\n",
       "      <td>24.0</td>\n",
       "      <td>0</td>\n",
       "      <td>New, without tags, unworn. Please check out my...</td>\n",
       "    </tr>\n",
       "    <tr>\n",
       "      <td>3</td>\n",
       "      <td>1099202</td>\n",
       "      <td>Clinique set</td>\n",
       "      <td>2</td>\n",
       "      <td>Beauty/Skin Care/Face</td>\n",
       "      <td>Clinique</td>\n",
       "      <td>9.0</td>\n",
       "      <td>0</td>\n",
       "      <td>No description yet</td>\n",
       "    </tr>\n",
       "    <tr>\n",
       "      <td>4</td>\n",
       "      <td>480394</td>\n",
       "      <td>Pink converse</td>\n",
       "      <td>2</td>\n",
       "      <td>Women/Shoes/Fashion Sneakers</td>\n",
       "      <td>Converse</td>\n",
       "      <td>32.0</td>\n",
       "      <td>0</td>\n",
       "      <td>Worn once, original box. Good deal!</td>\n",
       "    </tr>\n",
       "  </tbody>\n",
       "</table>\n",
       "</div>"
      ],
      "text/plain": [
       "   train_id                                     name  item_condition_id  \\\n",
       "0    248961     Mac Fix plus coconut limited edition                  1   \n",
       "1    281952                             Baseball Hat                  3   \n",
       "2    577278  Ovo Drake Size L Ovoxo Black Hoodie New                  1   \n",
       "3   1099202                             Clinique set                  2   \n",
       "4    480394                            Pink converse                  2   \n",
       "\n",
       "                  category_name    brand_name  price  shipping  \\\n",
       "0            Beauty/Makeup/Face  Mac Cosmetic   17.0         0   \n",
       "1    Men/Men's Accessories/Hats      Thrasher    8.0         1   \n",
       "2   Men/Sweats & Hoodies/Hoodie        Gildan   24.0         0   \n",
       "3         Beauty/Skin Care/Face      Clinique    9.0         0   \n",
       "4  Women/Shoes/Fashion Sneakers      Converse   32.0         0   \n",
       "\n",
       "                                    item_description  \n",
       "0  Price FIRM No free ship This is 30ml travel si...  \n",
       "1  Thrifted this item. Adjustable strap in the ba...  \n",
       "2  New, without tags, unworn. Please check out my...  \n",
       "3                                 No description yet  \n",
       "4                Worn once, original box. Good deal!  "
      ]
     },
     "execution_count": 3,
     "metadata": {},
     "output_type": "execute_result"
    }
   ],
   "source": [
    "reduced_X_train.head()"
   ]
  },
  {
   "cell_type": "code",
   "execution_count": 4,
   "metadata": {},
   "outputs": [
    {
     "name": "stdout",
     "output_type": "stream",
     "text": [
      "the data dimension is(148166, 8)\n",
      "train_id               int64\n",
      "name                  object\n",
      "item_condition_id      int64\n",
      "category_name         object\n",
      "brand_name            object\n",
      "price                float64\n",
      "shipping               int64\n",
      "item_description      object\n",
      "dtype: object\n"
     ]
    }
   ],
   "source": [
    "print(\"the data dimension is\"+str(reduced_X_train.shape))\n",
    "print(reduced_X_train.dtypes)"
   ]
  },
  {
   "cell_type": "code",
   "execution_count": 5,
   "metadata": {},
   "outputs": [
    {
     "data": {
      "text/html": [
       "<div>\n",
       "<style scoped>\n",
       "    .dataframe tbody tr th:only-of-type {\n",
       "        vertical-align: middle;\n",
       "    }\n",
       "\n",
       "    .dataframe tbody tr th {\n",
       "        vertical-align: top;\n",
       "    }\n",
       "\n",
       "    .dataframe thead th {\n",
       "        text-align: right;\n",
       "    }\n",
       "</style>\n",
       "<table border=\"1\" class=\"dataframe\">\n",
       "  <thead>\n",
       "    <tr style=\"text-align: right;\">\n",
       "      <th></th>\n",
       "      <th>count</th>\n",
       "      <th>unique</th>\n",
       "      <th>top</th>\n",
       "      <th>freq</th>\n",
       "    </tr>\n",
       "  </thead>\n",
       "  <tbody>\n",
       "    <tr>\n",
       "      <td>train_id</td>\n",
       "      <td>148166</td>\n",
       "      <td>148166</td>\n",
       "      <td>289338</td>\n",
       "      <td>1</td>\n",
       "    </tr>\n",
       "    <tr>\n",
       "      <td>name</td>\n",
       "      <td>148166</td>\n",
       "      <td>137601</td>\n",
       "      <td>Bundle</td>\n",
       "      <td>252</td>\n",
       "    </tr>\n",
       "    <tr>\n",
       "      <td>item_condition_id</td>\n",
       "      <td>148166</td>\n",
       "      <td>5</td>\n",
       "      <td>1</td>\n",
       "      <td>64644</td>\n",
       "    </tr>\n",
       "    <tr>\n",
       "      <td>category_name</td>\n",
       "      <td>147502</td>\n",
       "      <td>1031</td>\n",
       "      <td>Women/Athletic Apparel/Pants, Tights, Leggings</td>\n",
       "      <td>5820</td>\n",
       "    </tr>\n",
       "    <tr>\n",
       "      <td>brand_name</td>\n",
       "      <td>84916</td>\n",
       "      <td>2357</td>\n",
       "      <td>PINK</td>\n",
       "      <td>5404</td>\n",
       "    </tr>\n",
       "    <tr>\n",
       "      <td>price</td>\n",
       "      <td>148166</td>\n",
       "      <td>461</td>\n",
       "      <td>10</td>\n",
       "      <td>9825</td>\n",
       "    </tr>\n",
       "    <tr>\n",
       "      <td>shipping</td>\n",
       "      <td>148166</td>\n",
       "      <td>2</td>\n",
       "      <td>0</td>\n",
       "      <td>81915</td>\n",
       "    </tr>\n",
       "    <tr>\n",
       "      <td>item_description</td>\n",
       "      <td>148166</td>\n",
       "      <td>133762</td>\n",
       "      <td>No description yet</td>\n",
       "      <td>8246</td>\n",
       "    </tr>\n",
       "  </tbody>\n",
       "</table>\n",
       "</div>"
      ],
      "text/plain": [
       "                    count  unique  \\\n",
       "train_id           148166  148166   \n",
       "name               148166  137601   \n",
       "item_condition_id  148166       5   \n",
       "category_name      147502    1031   \n",
       "brand_name          84916    2357   \n",
       "price              148166     461   \n",
       "shipping           148166       2   \n",
       "item_description   148166  133762   \n",
       "\n",
       "                                                              top   freq  \n",
       "train_id                                                   289338      1  \n",
       "name                                                       Bundle    252  \n",
       "item_condition_id                                               1  64644  \n",
       "category_name      Women/Athletic Apparel/Pants, Tights, Leggings   5820  \n",
       "brand_name                                                   PINK   5404  \n",
       "price                                                          10   9825  \n",
       "shipping                                                        0  81915  \n",
       "item_description                               No description yet   8246  "
      ]
     },
     "execution_count": 5,
     "metadata": {},
     "output_type": "execute_result"
    }
   ],
   "source": [
    "reduced_X_train.astype('object').describe().transpose()"
   ]
  },
  {
   "cell_type": "markdown",
   "metadata": {},
   "source": [
    "# Data Cleaning"
   ]
  },
  {
   "cell_type": "code",
   "execution_count": 6,
   "metadata": {},
   "outputs": [
    {
     "data": {
      "text/plain": [
       "train_id             0.000000\n",
       "name                 0.000000\n",
       "item_condition_id    0.000000\n",
       "category_name        0.004481\n",
       "brand_name           0.426886\n",
       "price                0.000000\n",
       "shipping             0.000000\n",
       "item_description     0.000000\n",
       "dtype: float64"
      ]
     },
     "execution_count": 6,
     "metadata": {},
     "output_type": "execute_result"
    }
   ],
   "source": [
    "# Count missing values in out datsets\n",
    "reduced_X_train.isna().sum()/len(reduced_X_train)"
   ]
  },
  {
   "cell_type": "code",
   "execution_count": 7,
   "metadata": {},
   "outputs": [],
   "source": [
    "# Dealing with missing values( fill with appropiate values)\n",
    "reduced_X_train['category_name'] = reduced_X_train['category_name'].fillna('Other').astype(str)\n",
    "reduced_X_train['brand_name'] = reduced_X_train['brand_name'].fillna('missing').astype(str)\n",
    "reduced_X_train['shipping'] = reduced_X_train['shipping'].astype(str)\n",
    "reduced_X_train['item_condition_id'] = reduced_X_train['item_condition_id'].astype(str)\n",
    "reduced_X_train['item_description'] = reduced_X_train['item_description'].fillna('None')\n"
   ]
  },
  {
   "cell_type": "markdown",
   "metadata": {},
   "source": [
    "## Statistical Summary of Price"
   ]
  },
  {
   "cell_type": "code",
   "execution_count": 8,
   "metadata": {},
   "outputs": [
    {
     "data": {
      "text/plain": [
       "count    148166.000000\n",
       "mean         26.743399\n",
       "std          38.728236\n",
       "min           3.000000\n",
       "25%          10.000000\n",
       "50%          17.000000\n",
       "75%          29.000000\n",
       "max        2009.000000\n",
       "Name: price, dtype: float64"
      ]
     },
     "execution_count": 8,
     "metadata": {},
     "output_type": "execute_result"
    }
   ],
   "source": [
    "reduced_X_train.price.describe()"
   ]
  },
  {
   "cell_type": "markdown",
   "metadata": {},
   "source": [
    "The summary indicate:<br>\n",
    "**Skewed distribution** since the averge price is 26.72 and median is 17 <br>\n",
    "75% of our data is below 29 <br>\n",
    "**Oultiers** (max value is 2000) <br>\n",
    "\n",
    "**Solution: log transformation**"
   ]
  },
  {
   "cell_type": "code",
   "execution_count": 9,
   "metadata": {},
   "outputs": [
    {
     "data": {
      "image/png": "[encoded data removed]",
      "text/plain": [
       "<Figure size 1440x576 with 2 Axes>"
      ]
     },
     "metadata": {
      "needs_background": "light"
     },
     "output_type": "display_data"
    }
   ],
   "source": [
    "# Graph the price before and after transformation\n",
    "plt.figure(figsize=(20,8))\n",
    "plt.subplot(1, 2, 1)\n",
    "sns.distplot(reduced_X_train.price,kde=False)\n",
    "plt.xlabel('price', fontsize=12)\n",
    "plt.title('Price Distribution', fontsize=12)\n",
    "\n",
    "\n",
    "plt.subplot(1, 2, 2)\n",
    "sns.distplot(reduced_y_train,kde=False)\n",
    "plt.xlabel('log(price+1)', fontsize=12)\n",
    "plt.title('Log Price Distribution', fontsize=12)\n",
    "\n",
    "\n",
    "plt.show()"
   ]
  },
  {
   "cell_type": "markdown",
   "metadata": {},
   "source": [
    "The above charts shows the effect of transformarion on price distribution"
   ]
  },
  {
   "cell_type": "markdown",
   "metadata": {},
   "source": [
    "## Item condition distribution with price"
   ]
  },
  {
   "cell_type": "code",
   "execution_count": 10,
   "metadata": {},
   "outputs": [
    {
     "name": "stdout",
     "output_type": "stream",
     "text": [
      "There is about 5item condition in the dataset\n"
     ]
    }
   ],
   "source": [
    "print(\"There is about \"+str(reduced_X_train.item_condition_id.nunique())+ \"item condition in the dataset\")"
   ]
  },
  {
   "cell_type": "code",
   "execution_count": 11,
   "metadata": {},
   "outputs": [
    {
     "data": {
      "image/png": "[encoded data removed]",
      "text/plain": [
       "<Figure size 720x720 with 1 Axes>"
      ]
     },
     "metadata": {
      "needs_background": "light"
     },
     "output_type": "display_data"
    }
   ],
   "source": [
    "plt.figure(figsize=(10,10))\n",
    "sns.boxplot(x=reduced_X_train.item_condition_id,y=reduced_y_train)\n",
    "plt.xlabel(\"Item condition\",fontsize=12)\n",
    "plt.ylabel(\"Price\",fontsize=12)\n",
    "plt.title(\"Item condition Price distribution\",fontsize=15)\n",
    "plt.show()"
   ]
  },
  {
   "cell_type": "markdown",
   "metadata": {},
   "source": [
    "## Shipping versus price"
   ]
  },
  {
   "cell_type": "code",
   "execution_count": 12,
   "metadata": {},
   "outputs": [
    {
     "data": {
      "text/plain": [
       "0    0.55286\n",
       "1    0.44714\n",
       "Name: shipping, dtype: float64"
      ]
     },
     "execution_count": 12,
     "metadata": {},
     "output_type": "execute_result"
    }
   ],
   "source": [
    "reduced_X_train.shipping.value_counts()/len(reduced_X_train)"
   ]
  },
  {
   "cell_type": "code",
   "execution_count": 13,
   "metadata": {},
   "outputs": [
    {
     "name": "stdout",
     "output_type": "stream",
     "text": [
      "The average price if the shipping is paid by seller is nan\n",
      "The average price if the shipping is paid by buyer is nan\n"
     ]
    }
   ],
   "source": [
    "print(\"The average price if the shipping is paid by seller is \"+ str(reduced_X_train.price[reduced_X_train.shipping==1].mean()))\n",
    "print(\"The average price if the shipping is paid by buyer is \"+ str(reduced_X_train.price[reduced_X_train.shipping==0].mean()))\n"
   ]
  },
  {
   "cell_type": "code",
   "execution_count": 14,
   "metadata": {},
   "outputs": [
    {
     "data": {
      "image/png": "[encoded data removed]",
      "text/plain": [
       "<Figure size 1080x360 with 2 Axes>"
      ]
     },
     "metadata": {
      "needs_background": "light"
     },
     "output_type": "display_data"
    }
   ],
   "source": [
    "plt.figure(figsize=(15,5))\n",
    "plt.subplot(1, 2, 1)\n",
    "sns.countplot(x=\"shipping\",data=reduced_X_train)\n",
    "plt.xlabel('Shipping status', fontsize=12)\n",
    "plt.title('Shipping Distribution', fontsize=12)\n",
    "\n",
    "\n",
    "plt.subplot(1, 2, 2)\n",
    "sns.barplot(x=\"shipping\",y=\"price\",data=reduced_X_train[reduced_X_train.price<=100])\n",
    "plt.xlabel('Shipping status', fontsize=12)\n",
    "plt.title('The average price for with/out shipping', fontsize=12)\n",
    "\n",
    "\n",
    "plt.show()"
   ]
  },
  {
   "cell_type": "markdown",
   "metadata": {},
   "source": [
    "## Item category analysis"
   ]
  },
  {
   "cell_type": "code",
   "execution_count": 15,
   "metadata": {},
   "outputs": [
    {
     "name": "stdout",
     "output_type": "stream",
     "text": [
      "There is 1032 category in this datasets\n"
     ]
    }
   ],
   "source": [
    "print(\"There is \"+ str(reduced_X_train.category_name.nunique())+\" category in this datasets\")"
   ]
  },
  {
   "cell_type": "code",
   "execution_count": 16,
   "metadata": {},
   "outputs": [
    {
     "data": {
      "text/html": [
       "<div>\n",
       "<style scoped>\n",
       "    .dataframe tbody tr th:only-of-type {\n",
       "        vertical-align: middle;\n",
       "    }\n",
       "\n",
       "    .dataframe tbody tr th {\n",
       "        vertical-align: top;\n",
       "    }\n",
       "\n",
       "    .dataframe thead th {\n",
       "        text-align: right;\n",
       "    }\n",
       "</style>\n",
       "<table border=\"1\" class=\"dataframe\">\n",
       "  <thead>\n",
       "    <tr style=\"text-align: right;\">\n",
       "      <th></th>\n",
       "      <th>category_main</th>\n",
       "      <th>category_sub1</th>\n",
       "      <th>category_sub2</th>\n",
       "    </tr>\n",
       "  </thead>\n",
       "  <tbody>\n",
       "    <tr>\n",
       "      <td>0</td>\n",
       "      <td>Beauty</td>\n",
       "      <td>Makeup</td>\n",
       "      <td>Face</td>\n",
       "    </tr>\n",
       "    <tr>\n",
       "      <td>1</td>\n",
       "      <td>Men</td>\n",
       "      <td>Men's Accessories</td>\n",
       "      <td>Hats</td>\n",
       "    </tr>\n",
       "    <tr>\n",
       "      <td>2</td>\n",
       "      <td>Men</td>\n",
       "      <td>Sweats &amp; Hoodies</td>\n",
       "      <td>Hoodie</td>\n",
       "    </tr>\n",
       "    <tr>\n",
       "      <td>3</td>\n",
       "      <td>Beauty</td>\n",
       "      <td>Skin Care</td>\n",
       "      <td>Face</td>\n",
       "    </tr>\n",
       "    <tr>\n",
       "      <td>4</td>\n",
       "      <td>Women</td>\n",
       "      <td>Shoes</td>\n",
       "      <td>Fashion Sneakers</td>\n",
       "    </tr>\n",
       "  </tbody>\n",
       "</table>\n",
       "</div>"
      ],
      "text/plain": [
       "  category_main      category_sub1     category_sub2\n",
       "0        Beauty             Makeup              Face\n",
       "1           Men  Men's Accessories              Hats\n",
       "2           Men   Sweats & Hoodies            Hoodie\n",
       "3        Beauty          Skin Care              Face\n",
       "4         Women              Shoes  Fashion Sneakers"
      ]
     },
     "execution_count": 16,
     "metadata": {},
     "output_type": "execute_result"
    }
   ],
   "source": [
    "#splitting category name\n",
    "def transform_category_name(category_name):\n",
    "    try:\n",
    "        main, sub1, sub2= category_name.split('/')\n",
    "        return main, sub1, sub2\n",
    "    except:\n",
    "        return 'Other','Other','Other'\n",
    "\n",
    "reduced_X_train['category_main'], reduced_X_train['category_sub1'], reduced_X_train['category_sub2'] = zip(*reduced_X_train['category_name'].apply(transform_category_name))\n",
    "\n",
    "cat_train = reduced_X_train[['category_main','category_sub1','category_sub2']]\n",
    "\n",
    "cat_train.head()"
   ]
  },
  {
   "cell_type": "code",
   "execution_count": 17,
   "metadata": {},
   "outputs": [
    {
     "name": "stdout",
     "output_type": "stream",
     "text": [
      "Number of Main category is 10\n",
      "Number of subcategory 1 is 113\n",
      "Number of subcategory 2 is 720\n"
     ]
    }
   ],
   "source": [
    "print('Number of Main category is '+ str(cat_train.category_main.nunique()))\n",
    "print('Number of subcategory 1 is '+ str(cat_train.category_sub1.nunique()))\n",
    "print('Number of subcategory 2 is '+ str(cat_train.category_sub2.nunique()))"
   ]
  },
  {
   "cell_type": "markdown",
   "metadata": {},
   "source": [
    "### Top Category"
   ]
  },
  {
   "cell_type": "code",
   "execution_count": 18,
   "metadata": {},
   "outputs": [
    {
     "data": {
      "image/png": "[encoded data removed]",
      "text/plain": [
       "<Figure size 1224x720 with 1 Axes>"
      ]
     },
     "metadata": {
      "needs_background": "light"
     },
     "output_type": "display_data"
    }
   ],
   "source": [
    "plt.figure(figsize=(17,10))\n",
    "sns.countplot(y=\"category_main\",data=cat_train, order=cat_train[\"category_main\"].value_counts().index)\n",
    "plt.title('Top 10 Main Categories', fontsize = 25)\n",
    "plt.ylabel('Main Category', fontsize = 20)\n",
    "plt.xlabel('Number of Items')\n",
    "plt.show()"
   ]
  },
  {
   "cell_type": "code",
   "execution_count": 19,
   "metadata": {},
   "outputs": [
    {
     "data": {
      "text/plain": [
       "Women                     0.446668\n",
       "Beauty                    0.140734\n",
       "Kids                      0.114237\n",
       "Electronics               0.080565\n",
       "Men                       0.063922\n",
       "Home                      0.045820\n",
       "Other                     0.038099\n",
       "Vintage & Collectibles    0.031789\n",
       "Handmade                  0.021044\n",
       "Sports & Outdoors         0.017123\n",
       "Name: category_main, dtype: float64"
      ]
     },
     "execution_count": 19,
     "metadata": {},
     "output_type": "execute_result"
    }
   ],
   "source": [
    "cat_train[\"category_main\"].value_counts()/len(cat_train)"
   ]
  },
  {
   "cell_type": "markdown",
   "metadata": {},
   "source": [
    "There is interesting insight here that more that 50% of products are coming from categories **women and beauty**"
   ]
  },
  {
   "cell_type": "markdown",
   "metadata": {},
   "source": [
    "## Brand analysis"
   ]
  },
  {
   "cell_type": "code",
   "execution_count": 20,
   "metadata": {},
   "outputs": [
    {
     "name": "stdout",
     "output_type": "stream",
     "text": [
      " Number of Brands in this datasets is 2358\n"
     ]
    }
   ],
   "source": [
    "print(\" Number of Brands in this datasets is \"+str(reduced_X_train.brand_name.nunique()))"
   ]
  },
  {
   "cell_type": "markdown",
   "metadata": {},
   "source": [
    "### Top 20 frequent brand"
   ]
  },
  {
   "cell_type": "code",
   "execution_count": 21,
   "metadata": {},
   "outputs": [
    {
     "data": {
      "image/png": "[encoded data removed]",
      "text/plain": [
       "<Figure size 1224x720 with 1 Axes>"
      ]
     },
     "metadata": {
      "needs_background": "light"
     },
     "output_type": "display_data"
    }
   ],
   "source": [
    "plt.figure(figsize=(17,10))\n",
    "sns.countplot(y=\"brand_name\",data=reduced_X_train, order=reduced_X_train[\"brand_name\"].value_counts()[1:21].index)\n",
    "plt.title('Top 20 frequent brand', fontsize = 25)\n",
    "plt.ylabel('Brand', fontsize = 20)\n",
    "plt.xlabel('Number of Items',fontsize = 20)\n",
    "plt.show()"
   ]
  },
  {
   "cell_type": "markdown",
   "metadata": {},
   "source": [
    "### Top 20 expensive brands"
   ]
  },
  {
   "cell_type": "code",
   "execution_count": 22,
   "metadata": {},
   "outputs": [
    {
     "data": {
      "text/html": [
       "<div>\n",
       "<style scoped>\n",
       "    .dataframe tbody tr th:only-of-type {\n",
       "        vertical-align: middle;\n",
       "    }\n",
       "\n",
       "    .dataframe tbody tr th {\n",
       "        vertical-align: top;\n",
       "    }\n",
       "\n",
       "    .dataframe thead th {\n",
       "        text-align: right;\n",
       "    }\n",
       "</style>\n",
       "<table border=\"1\" class=\"dataframe\">\n",
       "  <thead>\n",
       "    <tr style=\"text-align: right;\">\n",
       "      <th></th>\n",
       "      <th>brand_name</th>\n",
       "      <th>price</th>\n",
       "    </tr>\n",
       "  </thead>\n",
       "  <tbody>\n",
       "    <tr>\n",
       "      <td>0</td>\n",
       "      <td>Goyard</td>\n",
       "      <td>1350.000000</td>\n",
       "    </tr>\n",
       "    <tr>\n",
       "      <td>1</td>\n",
       "      <td>Demdaco</td>\n",
       "      <td>848.000000</td>\n",
       "    </tr>\n",
       "    <tr>\n",
       "      <td>2</td>\n",
       "      <td>Alexander McQueen</td>\n",
       "      <td>614.500000</td>\n",
       "    </tr>\n",
       "    <tr>\n",
       "      <td>3</td>\n",
       "      <td>The Instrument Store</td>\n",
       "      <td>463.000000</td>\n",
       "    </tr>\n",
       "    <tr>\n",
       "      <td>4</td>\n",
       "      <td>Celine</td>\n",
       "      <td>425.444444</td>\n",
       "    </tr>\n",
       "  </tbody>\n",
       "</table>\n",
       "</div>"
      ],
      "text/plain": [
       "             brand_name        price\n",
       "0                Goyard  1350.000000\n",
       "1               Demdaco   848.000000\n",
       "2     Alexander McQueen   614.500000\n",
       "3  The Instrument Store   463.000000\n",
       "4                Celine   425.444444"
      ]
     },
     "execution_count": 22,
     "metadata": {},
     "output_type": "execute_result"
    }
   ],
   "source": [
    "brand_price= reduced_X_train.groupby(\"brand_name\")[\"price\"].mean().to_frame()\n",
    "brand_price=brand_price.sort_values(by=\"price\",ascending=False).reset_index()\n",
    "brand_price.head()"
   ]
  },
  {
   "cell_type": "code",
   "execution_count": 23,
   "metadata": {},
   "outputs": [
    {
     "data": {
      "image/png": "[encoded data removed]",
      "text/plain": [
       "<Figure size 1224x720 with 1 Axes>"
      ]
     },
     "metadata": {
      "needs_background": "light"
     },
     "output_type": "display_data"
    }
   ],
   "source": [
    "plt.figure(figsize=(17,10))\n",
    "ax=sns.barplot(x=\"brand_name\",y=\"price\",data=brand_price[:50])\n",
    "ax.set_xticklabels(ax.get_xticklabels(),rotation=90)\n",
    "ax.set_title('Top 50 Expensive Brand Distribution', fontsize=15)\n",
    "plt.show()"
   ]
  },
  {
   "cell_type": "markdown",
   "metadata": {},
   "source": [
    "# Text cleaning"
   ]
  },
  {
   "cell_type": "markdown",
   "metadata": {},
   "source": [
    "### Feature Extraction"
   ]
  },
  {
   "cell_type": "code",
   "execution_count": 24,
   "metadata": {},
   "outputs": [
    {
     "data": {
      "text/html": [
       "<div>\n",
       "<style scoped>\n",
       "    .dataframe tbody tr th:only-of-type {\n",
       "        vertical-align: middle;\n",
       "    }\n",
       "\n",
       "    .dataframe tbody tr th {\n",
       "        vertical-align: top;\n",
       "    }\n",
       "\n",
       "    .dataframe thead th {\n",
       "        text-align: right;\n",
       "    }\n",
       "</style>\n",
       "<table border=\"1\" class=\"dataframe\">\n",
       "  <thead>\n",
       "    <tr style=\"text-align: right;\">\n",
       "      <th></th>\n",
       "      <th>train_id</th>\n",
       "      <th>name</th>\n",
       "      <th>item_condition_id</th>\n",
       "      <th>category_name</th>\n",
       "      <th>brand_name</th>\n",
       "      <th>price</th>\n",
       "      <th>shipping</th>\n",
       "      <th>item_description</th>\n",
       "      <th>category_main</th>\n",
       "      <th>category_sub1</th>\n",
       "      <th>category_sub2</th>\n",
       "    </tr>\n",
       "  </thead>\n",
       "  <tbody>\n",
       "    <tr>\n",
       "      <td>0</td>\n",
       "      <td>248961</td>\n",
       "      <td>Mac Fix plus coconut limited edition</td>\n",
       "      <td>1</td>\n",
       "      <td>Beauty/Makeup/Face</td>\n",
       "      <td>Mac Cosmetic</td>\n",
       "      <td>17.0</td>\n",
       "      <td>0</td>\n",
       "      <td>Price FIRM No free ship This is 30ml travel si...</td>\n",
       "      <td>Beauty</td>\n",
       "      <td>Makeup</td>\n",
       "      <td>Face</td>\n",
       "    </tr>\n",
       "    <tr>\n",
       "      <td>1</td>\n",
       "      <td>281952</td>\n",
       "      <td>Baseball Hat</td>\n",
       "      <td>3</td>\n",
       "      <td>Men/Men's Accessories/Hats</td>\n",
       "      <td>Thrasher</td>\n",
       "      <td>8.0</td>\n",
       "      <td>1</td>\n",
       "      <td>Thrifted this item. Adjustable strap in the ba...</td>\n",
       "      <td>Men</td>\n",
       "      <td>Men's Accessories</td>\n",
       "      <td>Hats</td>\n",
       "    </tr>\n",
       "    <tr>\n",
       "      <td>2</td>\n",
       "      <td>577278</td>\n",
       "      <td>Ovo Drake Size L Ovoxo Black Hoodie New</td>\n",
       "      <td>1</td>\n",
       "      <td>Men/Sweats &amp; Hoodies/Hoodie</td>\n",
       "      <td>Gildan</td>\n",
       "      <td>24.0</td>\n",
       "      <td>0</td>\n",
       "      <td>New, without tags, unworn. Please check out my...</td>\n",
       "      <td>Men</td>\n",
       "      <td>Sweats &amp; Hoodies</td>\n",
       "      <td>Hoodie</td>\n",
       "    </tr>\n",
       "    <tr>\n",
       "      <td>3</td>\n",
       "      <td>1099202</td>\n",
       "      <td>Clinique set</td>\n",
       "      <td>2</td>\n",
       "      <td>Beauty/Skin Care/Face</td>\n",
       "      <td>Clinique</td>\n",
       "      <td>9.0</td>\n",
       "      <td>0</td>\n",
       "      <td>No description yet</td>\n",
       "      <td>Beauty</td>\n",
       "      <td>Skin Care</td>\n",
       "      <td>Face</td>\n",
       "    </tr>\n",
       "    <tr>\n",
       "      <td>4</td>\n",
       "      <td>480394</td>\n",
       "      <td>Pink converse</td>\n",
       "      <td>2</td>\n",
       "      <td>Women/Shoes/Fashion Sneakers</td>\n",
       "      <td>Converse</td>\n",
       "      <td>32.0</td>\n",
       "      <td>0</td>\n",
       "      <td>Worn once, original box. Good deal!</td>\n",
       "      <td>Women</td>\n",
       "      <td>Shoes</td>\n",
       "      <td>Fashion Sneakers</td>\n",
       "    </tr>\n",
       "  </tbody>\n",
       "</table>\n",
       "</div>"
      ],
      "text/plain": [
       "   train_id                                     name item_condition_id  \\\n",
       "0    248961     Mac Fix plus coconut limited edition                 1   \n",
       "1    281952                             Baseball Hat                 3   \n",
       "2    577278  Ovo Drake Size L Ovoxo Black Hoodie New                 1   \n",
       "3   1099202                             Clinique set                 2   \n",
       "4    480394                            Pink converse                 2   \n",
       "\n",
       "                  category_name    brand_name  price shipping  \\\n",
       "0            Beauty/Makeup/Face  Mac Cosmetic   17.0        0   \n",
       "1    Men/Men's Accessories/Hats      Thrasher    8.0        1   \n",
       "2   Men/Sweats & Hoodies/Hoodie        Gildan   24.0        0   \n",
       "3         Beauty/Skin Care/Face      Clinique    9.0        0   \n",
       "4  Women/Shoes/Fashion Sneakers      Converse   32.0        0   \n",
       "\n",
       "                                    item_description category_main  \\\n",
       "0  Price FIRM No free ship This is 30ml travel si...        Beauty   \n",
       "1  Thrifted this item. Adjustable strap in the ba...           Men   \n",
       "2  New, without tags, unworn. Please check out my...           Men   \n",
       "3                                 No description yet        Beauty   \n",
       "4                Worn once, original box. Good deal!         Women   \n",
       "\n",
       "       category_sub1     category_sub2  \n",
       "0             Makeup              Face  \n",
       "1  Men's Accessories              Hats  \n",
       "2   Sweats & Hoodies            Hoodie  \n",
       "3          Skin Care              Face  \n",
       "4              Shoes  Fashion Sneakers  "
      ]
     },
     "execution_count": 24,
     "metadata": {},
     "output_type": "execute_result"
    }
   ],
   "source": [
    "reduced_X_train.head()"
   ]
  },
  {
   "cell_type": "code",
   "execution_count": 25,
   "metadata": {},
   "outputs": [],
   "source": [
    "reduced_X_train=reduced_X_train.drop([\"price\",\"category_main\",\"category_sub1\",\"category_sub2\"],axis=1)"
   ]
  },
  {
   "cell_type": "markdown",
   "metadata": {},
   "source": [
    "### Bag of word"
   ]
  },
  {
   "cell_type": "code",
   "execution_count": 26,
   "metadata": {},
   "outputs": [],
   "source": [
    "#Copyright 2018, Data Science Dream Job LLC\n",
    "from sklearn.pipeline import FeatureUnion\n",
    "\n",
    "default_preprocessor = CountVectorizer().build_preprocessor()\n",
    "\n",
    "def build_preprocessor(field):\n",
    "    field_idx = list(reduced_X_train.columns).index(field)\n",
    "    return lambda x: default_preprocessor(x[field_idx])\n",
    "\n",
    "vectorizer = FeatureUnion([\n",
    "    ('name', CountVectorizer(\n",
    "        ngram_range=(1, 2),\n",
    "        max_features=50000,\n",
    "        preprocessor=build_preprocessor('name'))),\n",
    "    ('category_name', CountVectorizer(\n",
    "        token_pattern='.+',\n",
    "        preprocessor=build_preprocessor('category_name'))),\n",
    "    ('brand_name', CountVectorizer(\n",
    "        token_pattern='.+',\n",
    "        preprocessor=build_preprocessor('brand_name'))),\n",
    "    ('shipping', CountVectorizer(\n",
    "        token_pattern='\\d+',\n",
    "        preprocessor=build_preprocessor('shipping'))),\n",
    "    ('item_condition_id', CountVectorizer(\n",
    "        token_pattern='\\d+',\n",
    "        preprocessor=build_preprocessor('item_condition_id'))),\n",
    "    ('item_description', TfidfVectorizer(\n",
    "        ngram_range=(1, 2),\n",
    "        max_features=55000,\n",
    "        stop_words='english',\n",
    "        preprocessor=build_preprocessor('item_description'))),\n",
    "])"
   ]
  },
  {
   "cell_type": "code",
   "execution_count": 27,
   "metadata": {},
   "outputs": [],
   "source": [
    "# This is another way to transform our words into features but it takes too long to run the model\n",
    "#cv = CountVectorizer(stop_words='english',ngram_range=(1, 2))\n",
    "\n",
    "#X_name = cv.fit_transform(reduced_X_train['name'])\n",
    "#X_category=cv.fit_transform(reduced_X_train['category_name'])\n",
    "\n",
    "#X_dummies = csr_matrix(pd.get_dummies(reduced_X_train[['item_condition_id', 'shipping','brand_name']], sparse=True).values)\n",
    "\n",
    "#tv = TfidfVectorizer(max_features=55000, ngram_range=(1, 2), stop_words='english')\n",
    "#X_description = tv.fit_transform(reduced_X_train['item_description'])\n",
    "#reduced_Xt_train = hstack((X_dummies, X_description,X_category,X_name)).tocsr()\n"
   ]
  },
  {
   "cell_type": "code",
   "execution_count": 28,
   "metadata": {},
   "outputs": [
    {
     "data": {
      "text/plain": [
       "<148166x108397 sparse matrix of type '<class 'numpy.float64'>'\n",
       "\twith 4628222 stored elements in Compressed Sparse Row format>"
      ]
     },
     "execution_count": 28,
     "metadata": {},
     "output_type": "execute_result"
    }
   ],
   "source": [
    "# Create Transformed Train Set\n",
    "reduced_Xt_train = vectorizer.fit_transform(reduced_X_train.values)\n",
    "reduced_Xt_train"
   ]
  },
  {
   "cell_type": "code",
   "execution_count": 29,
   "metadata": {},
   "outputs": [],
   "source": [
    "def get_rmsle(y, pred): return np.sqrt(mean_squared_error(y, pred))\n"
   ]
  },
  {
   "cell_type": "markdown",
   "metadata": {},
   "source": [
    "# Modeling"
   ]
  },
  {
   "cell_type": "markdown",
   "metadata": {},
   "source": [
    "### Model evaluation"
   ]
  },
  {
   "cell_type": "markdown",
   "metadata": {},
   "source": [
    "Since we have large number of features so i regulization regression technique is adapted over multiple regression to control multicollinearity and automatic feature selection"
   ]
  },
  {
   "cell_type": "code",
   "execution_count": 35,
   "metadata": {},
   "outputs": [],
   "source": [
    "#This is one way to evaluate out models togother but it takes too long to run\n",
    "#models = []\n",
    "#models.append(('Ridge', Ridge(solver = \"lsqr\", fit_intercept=False, random_state=42)))\n",
    "#models.append(('Lasso', Lasso(fit_intercept=True, random_state=42)))\n",
    "#models.append(('lasticNet', ElasticNet(alpha=0.1,random_state=42)))\n",
    "\n",
    "#rmse_training=[]\n",
    "#rmse_validation=[]\n",
    "#names=[]\n",
    "\n",
    "# Create 3-Fold CV\n",
    "#cv = KFold(n_splits=3, shuffle=True, random_state=42)\n",
    "#for train_ids, valid_ids in cv.split(reduced_Xt_train):\n",
    "    #for name, model in models:\n",
    "\n",
    "        # fitting the model\n",
    "        #model.fit(reduced_Xt_train[train_ids], reduced_y_train[train_ids])\n",
    "        # Predict & Evaluate Training Score\n",
    "        #y_pred_train = model.predict(reduced_Xt_train[train_ids])\n",
    "        #rmsle_train = get_rmsle(y_pred_train, reduced_y_train[train_ids])\n",
    "        #rmse_training.append(rmsle_train)\n",
    "    \n",
    "        # Predict & Evaluate Validation Score\n",
    "        #y_pred_valid = model.predict(reduced_Xt_train[valid_ids])\n",
    "        #rmsle_valid = get_rmsle(y_pred_valid, reduced_y_train[valid_ids])\n",
    "        #rmse_validation.append(rmsle_valid)\n",
    "        #names.append(name)\n"
   ]
  },
  {
   "cell_type": "code",
   "execution_count": 31,
   "metadata": {},
   "outputs": [
    {
     "name": "stdout",
     "output_type": "stream",
     "text": [
      "LASSO Training RMSLE: 0.74705\n",
      "LASSO Validation RMSLE: 0.74078\n",
      "LASSO Training RMSLE: 0.74501\n",
      "LASSO Validation RMSLE: 0.74488\n",
      "LASSO Training RMSLE: 0.74283\n",
      "LASSO Validation RMSLE: 0.74922\n"
     ]
    }
   ],
   "source": [
    "%%time\n",
    "# Create 3-Fold CV\n",
    "cv = KFold(n_splits=3, shuffle=True, random_state=42)\n",
    "for train_ids, valid_ids in cv.split(reduced_Xt_train):\n",
    "    # Define LGBM Model\n",
    "    model_LASSO = Lasso(fit_intercept=True, random_state=42)\n",
    "    \n",
    "    # Fit LGBM Model\n",
    "    model_LASSO.fit(reduced_Xt_train[train_ids], reduced_y_train[train_ids])\n",
    "    \n",
    "    # Predict & Evaluate Training Score\n",
    "    y_pred_train = model_LASSO.predict(reduced_Xt_train[train_ids])\n",
    "    rmsle_train = get_rmsle(y_pred_train, reduced_y_train[train_ids])\n",
    "    \n",
    "    # Predict & Evaluate Validation Score\n",
    "    y_pred_valid = model_LASSO.predict(reduced_Xt_train[valid_ids])\n",
    "    rmsle_valid = get_rmsle(y_pred_valid, reduced_y_train[valid_ids])\n",
    "    \n",
    "    print(f'LASSO Training RMSLE: {rmsle_train:.5f}')\n",
    "    print(f'LASSO Validation RMSLE: {rmsle_valid:.5f}')"
   ]
  },
  {
   "cell_type": "code",
   "execution_count": 33,
   "metadata": {},
   "outputs": [
    {
     "name": "stdout",
     "output_type": "stream",
     "text": [
      "LGBM Training RMSLE: 0.31153\n",
      "LGBM Validation RMSLE: 0.50535\n",
      "LGBM Training RMSLE: 0.30968\n",
      "LGBM Validation RMSLE: 0.50748\n",
      "LGBM Training RMSLE: 0.30838\n",
      "LGBM Validation RMSLE: 0.50714\n",
      "Wall time: 7.95 s\n"
     ]
    }
   ],
   "source": [
    "%%time\n",
    "\n",
    "# Create 3-Fold CV\n",
    "cv = KFold(n_splits=3, shuffle=True, random_state=42)\n",
    "for train_ids, valid_ids in cv.split(reduced_Xt_train):\n",
    "    # Define LGBM Model\n",
    "    model_ridge = Ridge(solver = \"lsqr\", fit_intercept=False, random_state=42)\n",
    "    \n",
    "    # Fit LGBM Model\n",
    "    model_ridge.fit(reduced_Xt_train[train_ids], reduced_y_train[train_ids])\n",
    "    \n",
    "    # Predict & Evaluate Training Score\n",
    "    y_pred_train = model_ridge.predict(reduced_Xt_train[train_ids])\n",
    "    rmsle_train = get_rmsle(y_pred_train, reduced_y_train[train_ids])\n",
    "    \n",
    "    # Predict & Evaluate Validation Score\n",
    "    y_pred_valid = model_ridge.predict(reduced_Xt_train[valid_ids])\n",
    "    rmsle_valid = get_rmsle(y_pred_valid, reduced_y_train[valid_ids])\n",
    "    \n",
    "    print(f'LGBM Training RMSLE: {rmsle_train:.5f}')\n",
    "    print(f'LGBM Validation RMSLE: {rmsle_valid:.5f}')"
   ]
  },
  {
   "cell_type": "code",
   "execution_count": 34,
   "metadata": {},
   "outputs": [
    {
     "name": "stdout",
     "output_type": "stream",
     "text": [
      "ElasticNet Training RMSLE: 0.72887\n",
      "ElasticNet Validation RMSLE: 0.72309\n",
      "ElasticNet Training RMSLE: 0.72703\n",
      "ElasticNet Validation RMSLE: 0.72711\n",
      "ElasticNet Training RMSLE: 0.72580\n",
      "ElasticNet Validation RMSLE: 0.73155\n"
     ]
    }
   ],
   "source": [
    "%% time\n",
    "# Create 3-Fold CV\n",
    "cv = KFold(n_splits=3, shuffle=True, random_state=42)\n",
    "for train_ids, valid_ids in cv.split(reduced_Xt_train):\n",
    "    # Define LGBM Model\n",
    "    model_elastic = ElasticNet(alpha=0.1,random_state=42)\n",
    "    \n",
    "    # Fit LGBM Model\n",
    "    model_elastic.fit(reduced_Xt_train[train_ids], reduced_y_train[train_ids])\n",
    "    \n",
    "    # Predict & Evaluate Training Score\n",
    "    y_pred_train = model_elastic.predict(reduced_Xt_train[train_ids])\n",
    "    rmsle_train = get_rmsle(y_pred_train, reduced_y_train[train_ids])\n",
    "    \n",
    "    # Predict & Evaluate Validation Score\n",
    "    y_pred_valid = model_elastic.predict(reduced_Xt_train[valid_ids])\n",
    "    rmsle_valid = get_rmsle(y_pred_valid, reduced_y_train[valid_ids])\n",
    "    \n",
    "    print(f'ElasticNet Training RMSLE: {rmsle_train:.5f}')\n",
    "    print(f'ElasticNet Validation RMSLE: {rmsle_valid:.5f}')"
   ]
  },
  {
   "cell_type": "markdown",
   "metadata": {},
   "source": [
    "From the above results you can notice that ridge regression has lower error."
   ]
  },
  {
   "cell_type": "code",
   "execution_count": 36,
   "metadata": {},
   "outputs": [],
   "source": [
    "# Train and Test Split\n",
    "train_X, test_X, train_y, test_y = train_test_split(reduced_Xt_train, reduced_y_train, test_size=0.2, random_state=144)\n",
    "# Define Ridge Model\n",
    "model_ridge = Ridge(solver = \"lsqr\", fit_intercept=False, random_state=42)\n",
    "    \n",
    "# Fit Ridge Model\n",
    "model_ridge.fit(train_X, train_y)\n",
    "    \n",
    "# Evaluate Training Score\n",
    "ridge_y_pred = model_ridge.predict(test_X)"
   ]
  },
  {
   "cell_type": "code",
   "execution_count": 37,
   "metadata": {},
   "outputs": [],
   "source": [
    "y_test=pd.DataFrame(np.expm1(test_y))\n",
    "y_test[\"predicted\"]=np.expm1(ridge_y_pred)\n",
    "\n"
   ]
  },
  {
   "cell_type": "code",
   "execution_count": 40,
   "metadata": {},
   "outputs": [
    {
     "data": {
      "text/plain": [
       "Text(0.5, 1.0, 'Actual versus predicted')"
      ]
     },
     "execution_count": 40,
     "metadata": {},
     "output_type": "execute_result"
    },
    {
     "data": {
      "image/png": "[encoded data removed]",
      "text/plain": [
       "<Figure size 1440x720 with 1 Axes>"
      ]
     },
     "metadata": {
      "needs_background": "light"
     },
     "output_type": "display_data"
    }
   ],
   "source": [
    "plt.figure(figsize=(20,10))\n",
    "sns.scatterplot(x=\"price\", y=\"predicted\", data=y_test)\n",
    "plt.xlabel(\"Actual price\")\n",
    "plt.ylabel(\"Predicted price\")\n",
    "plt.title(\"Actual versus predicted\")\n",
    "\n",
    "\n"
   ]
  },
  {
   "cell_type": "markdown",
   "metadata": {},
   "source": [
    "# Notes\n",
    "1-The model is fitted on subset of original data, lower error will be if it's fitted on the entire dataset. <br>\n",
    "2-The model performed worse on higher values of price because of less observation.<br>\n",
    "3-You can fit ensemble techniques to get less error but model interpertation will be complicated\n"
   ]
  },
  {
   "cell_type": "code",
   "execution_count": null,
   "metadata": {},
   "outputs": [],
   "source": []
  }
 ],
 "metadata": {
  "kernelspec": {
   "display_name": "Python 3",
   "language": "python",
   "name": "python3"
  },
  "language_info": {
   "codemirror_mode": {
    "name": "ipython",
    "version": 3
   },
   "file_extension": ".py",
   "mimetype": "text/x-python",
   "name": "python",
   "nbconvert_exporter": "python",
   "pygments_lexer": "ipython3",
   "version": "3.7.4"
  }
 },
 "nbformat": 4,
 "nbformat_minor": 2
}
